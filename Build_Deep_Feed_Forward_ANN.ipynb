{
  "nbformat": 4,
  "nbformat_minor": 0,
  "metadata": {
    "colab": {
      "provenance": []
    },
    "kernelspec": {
      "name": "python3",
      "display_name": "Python 3"
    },
    "language_info": {
      "name": "python"
    }
  },
  "cells": [
    {
      "cell_type": "code",
      "execution_count": null,
      "metadata": {
        "id": "hBZhqdz4gg5i"
      },
      "outputs": [],
      "source": [
        "import numpy as np\n",
        "import matplotlib.pyplot as plt\n",
        "from sklearn.datasets import load_iris\n",
        "from sklearn.model_selection import train_test_split\n",
        "from sklearn.preprocessing import StandardScaler, OneHotEncoder\n",
        "from sklearn.metrics import confusion_matrix, ConfusionMatrixDisplay"
      ]
    },
    {
      "cell_type": "code",
      "source": [
        "# Load the dataset\n",
        "iris = load_iris()\n",
        "X = iris.data\n",
        "y = iris.target.reshape(-1, 1)"
      ],
      "metadata": {
        "id": "oqFwYdIcg16g"
      },
      "execution_count": null,
      "outputs": []
    },
    {
      "cell_type": "code",
      "source": [
        "# Standardize features\n",
        "scaler = StandardScaler()\n",
        "X = scaler.fit_transform(X)"
      ],
      "metadata": {
        "id": "N42qv8XCg10s"
      },
      "execution_count": null,
      "outputs": []
    },
    {
      "cell_type": "code",
      "source": [
        "# One-hot encode labels\n",
        "encoder = OneHotEncoder(sparse_output=False)\n",
        "y = encoder.fit_transform(y)"
      ],
      "metadata": {
        "id": "oCfjyiTig1xm"
      },
      "execution_count": null,
      "outputs": []
    },
    {
      "cell_type": "code",
      "source": [
        " # Train-test split\n",
        "X_train, X_test, y_train, y_test = train_test_split(X, y,\n",
        "test_size=0.2, random_state=42)"
      ],
      "metadata": {
        "id": "AZXWRBFmg1uB"
      },
      "execution_count": null,
      "outputs": []
    },
    {
      "cell_type": "code",
      "source": [
        "import numpy as np\n",
        "\n",
        "# ReLU Activation\n",
        "def relu(x):\n",
        "    return np.maximum(0, x)\n",
        "\n",
        "def relu_derivative(x):\n",
        "    return (x > 0).astype(float)\n",
        "\n",
        "# Softmax Activation (numerically stable)\n",
        "def softmax(x):\n",
        "    e_x = np.exp(x - np.max(x, axis=1, keepdims=True))\n",
        "    return e_x / e_x.sum(axis=1, keepdims=True)\n"
      ],
      "metadata": {
        "id": "IAr84Qxng1qq"
      },
      "execution_count": null,
      "outputs": []
    },
    {
      "cell_type": "code",
      "source": [
        "def cross_entropy_loss(y_true, y_pred):\n",
        "    return -np.mean(np.sum(y_true * np.log(y_pred + 1e-8), axis=1))\n",
        "\n",
        "def cross_entropy_derivative(y_true, y_pred):\n",
        "    return y_pred - y_true\n"
      ],
      "metadata": {
        "id": "rYMl8S3zkU9-"
      },
      "execution_count": null,
      "outputs": []
    },
    {
      "cell_type": "code",
      "source": [
        "class DeepANN:\n",
        "    def __init__(self, layer_sizes, learning_rate=0.01):\n",
        "        self.layer_sizes = layer_sizes\n",
        "        self.lr = learning_rate\n",
        "        self.weights = []\n",
        "        self.biases = []\n",
        "        self.loss_history = []\n",
        "\n",
        "        for i in range(len(layer_sizes) - 1):\n",
        "            weight = np.random.randn(layer_sizes[i], layer_sizes[i + 1]) * np.sqrt(2. / layer_sizes[i])\n",
        "            bias = np.zeros((1, layer_sizes[i + 1]))\n",
        "            self.weights.append(weight)\n",
        "            self.biases.append(bias)\n",
        "\n",
        "    def forward(self, X):\n",
        "        activations = [X]\n",
        "        zs = []\n",
        "\n",
        "        for i in range(len(self.weights) - 1):\n",
        "            z = np.dot(activations[-1], self.weights[i]) + self.biases[i]\n",
        "            zs.append(z)\n",
        "            a = relu(z)\n",
        "            activations.append(a)\n",
        "\n",
        "        z = np.dot(activations[-1], self.weights[-1]) + self.biases[-1]\n",
        "        zs.append(z)\n",
        "        a = softmax(z)\n",
        "        activations.append(a)\n",
        "\n",
        "        return activations, zs\n",
        "\n",
        "    def backward(self, activations, zs, y_true):\n",
        "        grads_w = [None] * len(self.weights)\n",
        "        grads_b = [None] * len(self.biases)\n",
        "\n",
        "        delta = cross_entropy_derivative(y_true, activations[-1])\n",
        "        grads_w[-1] = np.dot(activations[-2].T, delta)\n",
        "        grads_b[-1] = np.sum(delta, axis=0, keepdims=True)\n",
        "\n",
        "        for i in reversed(range(len(grads_w) - 1)):\n",
        "            delta = np.dot(delta, self.weights[i + 1].T) * relu_derivative(zs[i])\n",
        "            grads_w[i] = np.dot(activations[i].T, delta)\n",
        "            grads_b[i] = np.sum(delta, axis=0, keepdims=True)\n",
        "\n",
        "        self.update_weights(grads_w, grads_b)\n",
        "\n",
        "    def update_weights(self, grads_w, grads_b):\n",
        "        for i in range(len(self.weights)):\n",
        "            self.weights[i] -= self.lr * grads_w[i]\n",
        "            self.biases[i] -= self.lr * grads_b[i]\n",
        "\n",
        "    def train(self, X, y, epochs=1000):\n",
        "        for epoch in range(epochs):\n",
        "            activations, zs = self.forward(X)\n",
        "            loss = cross_entropy_loss(y, activations[-1])\n",
        "            self.loss_history.append(loss)\n",
        "            self.backward(activations, zs, y)\n",
        "\n",
        "            if epoch % 100 == 0:\n",
        "                print(f\"Epoch {epoch} | Loss: {loss:.4f}\")\n",
        "\n",
        "    def predict(self, X):\n",
        "        activations, _ = self.forward(X)\n",
        "        return np.argmax(activations[-1], axis=1)\n",
        "\n",
        "    def accuracy(self, X, y_true):\n",
        "        preds = self.predict(X)\n",
        "        labels = np.argmax(y_true, axis=1)\n",
        "        return np.mean(preds == labels)\n"
      ],
      "metadata": {
        "id": "SijhixwKkcAH"
      },
      "execution_count": null,
      "outputs": []
    },
    {
      "cell_type": "code",
      "source": [
        "iris = load_iris()\n",
        "X = iris.data\n",
        "y = iris.target.reshape(-1, 1)\n",
        "\n",
        "encoder = OneHotEncoder(sparse_output=False)\n",
        "y_encoded = encoder.fit_transform(y)\n",
        "\n",
        "X_train, X_test, y_train, y_test = train_test_split(X, y_encoded, test_size=0.2, random_state=42)\n",
        "\n"
      ],
      "metadata": {
        "id": "oKtZuUs-kf0w"
      },
      "execution_count": null,
      "outputs": []
    },
    {
      "cell_type": "code",
      "source": [
        "layer_sizes = [4, 16, 32, 16, 8, 3]\n",
        "model = DeepANN(layer_sizes, learning_rate=0.01)\n",
        "model.train(X_train, y_train, epochs=1000)\n"
      ],
      "metadata": {
        "colab": {
          "base_uri": "https://localhost:8080/"
        },
        "id": "IfzYQVuzlPOT",
        "outputId": "c5d81797-cd98-480a-fb21-fc3bcb410225"
      },
      "execution_count": null,
      "outputs": [
        {
          "output_type": "stream",
          "name": "stdout",
          "text": [
            "Epoch 0 | Loss: 5.4796\n",
            "Epoch 100 | Loss: 1.0984\n",
            "Epoch 200 | Loss: 1.0984\n",
            "Epoch 300 | Loss: 1.0984\n",
            "Epoch 400 | Loss: 1.0984\n",
            "Epoch 500 | Loss: 1.0984\n",
            "Epoch 600 | Loss: 1.0984\n",
            "Epoch 700 | Loss: 1.0984\n",
            "Epoch 800 | Loss: 1.0984\n",
            "Epoch 900 | Loss: 1.0984\n"
          ]
        }
      ]
    },
    {
      "cell_type": "code",
      "source": [
        "acc = model.accuracy(X_test, y_test)\n",
        "print(f\"\\nTest Accuracy: {acc * 100:.2f}%\")\n",
        "\n",
        "plt.figure(figsize=(8, 4))\n",
        "plt.plot(model.loss_history, label='Training Loss')\n",
        "plt.xlabel(\"Epoch\")\n",
        "plt.ylabel(\"Loss\")\n",
        "plt.title(\"Training Loss over Epochs\")\n",
        "plt.legend()\n",
        "plt.grid(True)\n",
        "plt.show()\n"
      ],
      "metadata": {
        "colab": {
          "base_uri": "https://localhost:8080/",
          "height": 446
        },
        "id": "pUYqNaMflSZx",
        "outputId": "cbe701e2-5162-42b6-baf8-3b2d5f83e92c"
      },
      "execution_count": null,
      "outputs": [
        {
          "output_type": "stream",
          "name": "stdout",
          "text": [
            "\n",
            "Test Accuracy: 30.00%\n"
          ]
        },
        {
          "output_type": "display_data",
          "data": {
            "text/plain": [
              "<Figure size 800x400 with 1 Axes>"
            ],
            "image/png": "[encoded data removed]"
          },
          "metadata": {}
        }
      ]
    },
    {
      "cell_type": "code",
      "source": [
        "y_pred = model.predict(X_test)\n",
        "y_true = np.argmax(y_test, axis=1)\n",
        "\n",
        "cm = confusion_matrix(y_true, y_pred)\n",
        "disp = ConfusionMatrixDisplay(confusion_matrix=cm, display_labels=iris.target_names)\n",
        "disp.plot(cmap=plt.cm.Blues)\n",
        "plt.title(\"Confusion Matrix\")\n",
        "plt.grid(False)\n",
        "plt.show()"
      ],
      "metadata": {
        "colab": {
          "base_uri": "https://localhost:8080/",
          "height": 472
        },
        "id": "bTTpj19NlUTO",
        "outputId": "2383cba4-d18b-46aa-acf0-adee09ada396"
      },
      "execution_count": null,
      "outputs": [
        {
          "output_type": "display_data",
          "data": {
            "text/plain": [
              "<Figure size 640x480 with 2 Axes>"
            ],
            "image/png": "[encoded data removed]"
          },
          "metadata": {}
        }
      ]
    }
  ]
}